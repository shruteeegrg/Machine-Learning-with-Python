{
  "nbformat": 4,
  "nbformat_minor": 0,
  "metadata": {
    "colab": {
      "provenance": [],
      "authorship_tag": "ABX9TyNGZWSw10HtVAC+TMAtRZKO",
      "include_colab_link": true
    },
    "kernelspec": {
      "name": "python3",
      "display_name": "Python 3"
    },
    "language_info": {
      "name": "python"
    }
  },
  "cells": [
    {
      "cell_type": "markdown",
      "metadata": {
        "id": "view-in-github",
        "colab_type": "text"
      },
      "source": [
        "<a href=\"https://colab.research.google.com/github/shruteeegrg/Machine-Learning-with-Python/blob/main/Core_Learning_Algorithms_Hidden_Markov_Model_.ipynb\" target=\"_parent\"><img src=\"https://colab.research.google.com/assets/colab-badge.svg\" alt=\"Open In Colab\"/></a>"
      ]
    },
    {
      "cell_type": "markdown",
      "source": [
        "**Import and SetUp**"
      ],
      "metadata": {
        "id": "RfVnEpkBMO9h"
      }
    },
    {
      "cell_type": "code",
      "execution_count": null,
      "metadata": {
        "id": "J0D2a7RfMHBR"
      },
      "outputs": [],
      "source": [
        "import tensorflow_probability as tfp\n",
        "import tensorflow as tf"
      ]
    },
    {
      "cell_type": "markdown",
      "source": [
        "**Weather Model**"
      ],
      "metadata": {
        "id": "F2BKFbuJU_t-"
      }
    },
    {
      "cell_type": "markdown",
      "source": [
        "Points to remeber for the model:\n",
        "\n",
        "\n",
        "1.  Cold days are encoded by 0 and hot days are encoded by a 1\n",
        "2.  The first day in our sequence has an 80% chance of being cold\n",
        "3. A cold day has a 30% chance of being followed by a hot day\n",
        "4. A hot day has 20% chance of being followed by a cold day\n",
        "5. On each day the tempeature is normally distributed with mean and standard deviation 0 and 5 on a cold a day and mean and standard deviation 15 and 10 on a hot day.\n",
        "\n"
      ],
      "metadata": {
        "id": "IHA_erVXXZIA"
      }
    },
    {
      "cell_type": "code",
      "source": [
        "tfd = tfp.distributions\n",
        "initial_distribution = tfd.Categorical(probs = [0.8, 0.2])\n",
        "transition_distribution = tfd.Categorical(probs=[[0.7, 0.3],\n",
        "                                                [0.2, 0.8]])\n",
        "observation_distribution = tfd.Normal(loc=[0.,15.], scale=[5., 10.])"
      ],
      "metadata": {
        "id": "1HB-8INGVB8q"
      },
      "execution_count": null,
      "outputs": []
    },
    {
      "cell_type": "markdown",
      "source": [
        "**Model**"
      ],
      "metadata": {
        "id": "w5u7x2RlgXxh"
      }
    },
    {
      "cell_type": "code",
      "source": [
        "model = tfd.HiddenMarkovModel(\n",
        "    initial_distribution=initial_distribution,\n",
        "    transition_distribution=transition_distribution,\n",
        "    observation_distribution=observation_distribution,\n",
        "    num_steps=7)"
      ],
      "metadata": {
        "id": "YkiWQFdWgeDD"
      },
      "execution_count": null,
      "outputs": []
    },
    {
      "cell_type": "markdown",
      "source": [
        "The num_steps defines the number of days the model will predict the weather."
      ],
      "metadata": {
        "id": "ugOubyS7ivXy"
      }
    },
    {
      "cell_type": "code",
      "source": [
        "mean = model.mean()\n",
        "\n",
        "with tf.compat.v1.Session() as sess:\n",
        "  print(mean.numpy())"
      ],
      "metadata": {
        "colab": {
          "base_uri": "https://localhost:8080/"
        },
        "id": "HjAZ8ogHioE5",
        "outputId": "d3d00ed9-61c2-44ec-9c5f-772dd290bba1"
      },
      "execution_count": null,
      "outputs": [
        {
          "output_type": "stream",
          "name": "stdout",
          "text": [
            "[3.        5.9999995 7.4999995 8.25      8.625001  8.812501  8.90625  ]\n"
          ]
        }
      ]
    }
  ]
}