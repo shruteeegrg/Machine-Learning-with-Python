{
  "nbformat": 4,
  "nbformat_minor": 0,
  "metadata": {
    "colab": {
      "provenance": [],
      "gpuType": "T4"
    },
    "kernelspec": {
      "name": "python3",
      "display_name": "Python 3"
    },
    "language_info": {
      "name": "python"
    },
    "accelerator": "GPU"
  },
  "cells": [
    {
      "cell_type": "markdown",
      "source": [
        "**Tensor DataType Declaration:**"
      ],
      "metadata": {
        "id": "77h66l7Cehes"
      }
    },
    {
      "cell_type": "code",
      "execution_count": null,
      "metadata": {
        "colab": {
          "base_uri": "https://localhost:8080/"
        },
        "id": "B5xmAdbQcZVC",
        "outputId": "7b2da225-7160-45d0-b50a-d6d526da130d"
      },
      "outputs": [
        {
          "output_type": "stream",
          "name": "stdout",
          "text": [
            "<tf.Variable 'Variable:0' shape=() dtype=string, numpy=b'My name is Shruti Gurung'>\n",
            "<tf.Variable 'Variable:0' shape=() dtype=int32, numpy=123>\n",
            "<tf.Variable 'Variable:0' shape=() dtype=float32, numpy=3.14>\n"
          ]
        }
      ],
      "source": [
        "import tensorflow as tf\n",
        "\n",
        "string = tf.Variable(\"My name is Shruti Gurung\", tf.string)\n",
        "number = tf.Variable(123, tf.int16)\n",
        "floating = tf.Variable(3.14, tf.float64)\n",
        "\n",
        "print(string)\n",
        "print(number)\n",
        "print(floating)\n"
      ]
    },
    {
      "cell_type": "markdown",
      "source": [
        "**Rank/Degree of Tensor**"
      ],
      "metadata": {
        "id": "xdRiGF_1gMV8"
      }
    },
    {
      "cell_type": "code",
      "source": [
        "rank1_tensor = tf.Variable([\"Shruti\", \"Gurung\"], tf.string)\n",
        "rank2_tensor = tf.Variable([[\"Shruti\", \"a\",\"b\"], [\"Gurung\", \"b\",\"c\"], [\"Sushma\", \"C\",\"d\"]],tf.string )\n",
        "\n",
        "tf.rank(rank2_tensor)"
      ],
      "metadata": {
        "colab": {
          "base_uri": "https://localhost:8080/"
        },
        "id": "W8CP04q-fYGX",
        "outputId": "028db20f-a090-45e3-e1a6-9d854108261e"
      },
      "execution_count": null,
      "outputs": [
        {
          "output_type": "execute_result",
          "data": {
            "text/plain": [
              "<tf.Tensor: shape=(), dtype=int32, numpy=2>"
            ]
          },
          "metadata": {},
          "execution_count": 6
        }
      ]
    },
    {
      "cell_type": "markdown",
      "source": [
        "**Shape of Tensor**"
      ],
      "metadata": {
        "id": "qCkY4qe7gvli"
      }
    },
    {
      "cell_type": "code",
      "source": [
        "rank2_tensor.shape"
      ],
      "metadata": {
        "colab": {
          "base_uri": "https://localhost:8080/"
        },
        "id": "l4Rgh5qUgzvL",
        "outputId": "5396c25f-19ec-445d-d18c-68eac5d7fa6b"
      },
      "execution_count": null,
      "outputs": [
        {
          "output_type": "execute_result",
          "data": {
            "text/plain": [
              "TensorShape([2, 2])"
            ]
          },
          "metadata": {},
          "execution_count": 19
        }
      ]
    },
    {
      "cell_type": "markdown",
      "source": [
        "**Changing Shape**"
      ],
      "metadata": {
        "id": "pRJ7qvrlp13o"
      }
    },
    {
      "cell_type": "code",
      "source": [
        "tensor1 = tf.ones([1,2,3])\n",
        "print(tensor1)"
      ],
      "metadata": {
        "colab": {
          "base_uri": "https://localhost:8080/"
        },
        "id": "-vdiACbVp5BJ",
        "outputId": "0870674a-6c57-4bf3-a1c1-1f583c074ce4"
      },
      "execution_count": null,
      "outputs": [
        {
          "output_type": "stream",
          "name": "stdout",
          "text": [
            "tf.Tensor(\n",
            "[[[1. 1. 1.]\n",
            "  [1. 1. 1.]]], shape=(1, 2, 3), dtype=float32)\n"
          ]
        }
      ]
    },
    {
      "cell_type": "code",
      "source": [
        "tensor2 = tf.reshape(tensor1, [2,3,1])\n",
        "print(tensor2)"
      ],
      "metadata": {
        "colab": {
          "base_uri": "https://localhost:8080/"
        },
        "id": "5iptSZ84p9Av",
        "outputId": "41c6ebac-a0d6-4f59-9b3f-6d32a8096d9c"
      },
      "execution_count": null,
      "outputs": [
        {
          "output_type": "stream",
          "name": "stdout",
          "text": [
            "tf.Tensor(\n",
            "[[[1.]\n",
            "  [1.]\n",
            "  [1.]]\n",
            "\n",
            " [[1.]\n",
            "  [1.]\n",
            "  [1.]]], shape=(2, 3, 1), dtype=float32)\n"
          ]
        }
      ]
    },
    {
      "cell_type": "code",
      "source": [
        "tensor3 = tf.reshape(tensor2, [3,-1])\n",
        "print(tensor3)"
      ],
      "metadata": {
        "colab": {
          "base_uri": "https://localhost:8080/"
        },
        "id": "_ly6cAkaqPIm",
        "outputId": "b4c17270-f9e0-4a18-8d85-599de0d332a6"
      },
      "execution_count": null,
      "outputs": [
        {
          "output_type": "stream",
          "name": "stdout",
          "text": [
            "tf.Tensor(\n",
            "[[1. 1.]\n",
            " [1. 1.]\n",
            " [1. 1.]], shape=(3, 2), dtype=float32)\n"
          ]
        }
      ]
    },
    {
      "cell_type": "code",
      "source": [
        "with tf.Session() as sess:\n",
        "  tensor1.eval()\n",
        "#"
      ],
      "metadata": {
        "colab": {
          "base_uri": "https://localhost:8080/"
        },
        "id": "QdLGc-iatfNf",
        "outputId": "9c2a29c7-75f2-4bcf-8e11-e579c9a86292"
      },
      "execution_count": null,
      "outputs": [
        {
          "output_type": "stream",
          "name": "stdout",
          "text": [
            "2.17.1\n"
          ]
        }
      ]
    }
  ]
}